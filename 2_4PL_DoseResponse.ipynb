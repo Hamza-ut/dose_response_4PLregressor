{
 "cells": [
  {
   "cell_type": "code",
   "execution_count": 1,
   "id": "a226b9af-58ea-42b0-a871-6254301de761",
   "metadata": {},
   "outputs": [],
   "source": [
    "## DEPENDENCIES\n",
    "import numpy as np\n",
    "import sympy as sp\n",
    "import pandas as pd\n",
    "import seaborn as sns\n",
    "from scipy.stats import norm\n",
    "import matplotlib.pyplot as plt\n",
    "from scipy.optimize import fsolve,curve_fit"
   ]
  },
  {
   "cell_type": "markdown",
   "id": "d97775ea-88d2-4ade-ba49-6782819529dd",
   "metadata": {},
   "source": [
    "# 1. Data Loading"
   ]
  },
  {
   "cell_type": "code",
   "execution_count": 2,
   "id": "a2d8c97b-3193-4810-aae5-520b2d766ab0",
   "metadata": {},
   "outputs": [],
   "source": [
    "df = pd.read_csv('result/only9.5_to10.5.csv')\n",
    "x_data = df['uM']\n",
    "y_data = df['Fit']\n",
    "\n",
    "\n",
    "# df = pd.read_csv('data_for_test/lepidium_metaremoved.csv')\n",
    "# x_data = df['conc']\n",
    "# y_data = df['weight']\n",
    "\n",
    "\n",
    "# df = pd.read_csv('data_for_test/ryegrass_metaremoved.csv')\n",
    "# x_data = df['conc']\n",
    "# y_data = df['rootl']"
   ]
  },
  {
   "cell_type": "markdown",
   "id": "dd623388-67c7-49d4-b567-cb7960fd2c42",
   "metadata": {},
   "source": [
    "# 2. Model Construction"
   ]
  },
  {
   "cell_type": "code",
   "execution_count": 3,
   "id": "4588d816-356f-454a-87a2-8918abc36239",
   "metadata": {
    "tags": []
   },
   "outputs": [
    {
     "name": "stdout",
     "output_type": "stream",
     "text": [
      "Fitted Parameters: A=0.09100687634632024, B=1.0100454133183805, C=6.618816246415256, D=1.7705486755903141\n"
     ]
    }
   ],
   "source": [
    "# Four PL equation function to be used by scipy optimize function\n",
    "def four_pl(x, A, B, C, D):\n",
    "    return A + (B - A) / (1 + (x / C) ** D)\n",
    "\n",
    "A_guess = np.percentile(y_data, 5)  # More robust estimate for lower asymptote then using y_min, not prone to outlier/extreme values\n",
    "B_guess = np.percentile(y_data, 95)  # More robust estimate for upper asymptote then using y_max, not prone to outlier/extreme values\n",
    "C_guess = np.median(x_data)  # Still using the median\n",
    "D_guess = 1  # Hill slope\n",
    "\n",
    "\n",
    "initial_guess = [A_guess, B_guess, C_guess, D_guess]\n",
    "\n",
    "# Define bounds for parameters\n",
    "bounds = ([np.min(y_data) - 1, np.min(y_data), 0, 0], [np.max(y_data) + 1, np.max(y_data), np.max(x_data), 100])\n",
    "#bounds = ([0, 0, 0, 0], [np.inf, np.inf, np.inf, 10])\n",
    "# Fit the model to the data\n",
    "try:\n",
    "    popt, pcov = curve_fit(four_pl, x_data, y_data, p0=initial_guess, bounds=bounds, maxfev=2000)\n",
    "    A_fit, B_fit, C_fit, D_fit = popt\n",
    "    print(f'Fitted Parameters: A={A_fit}, B={B_fit}, C={C_fit}, D={D_fit}')\n",
    "except Exception as e:\n",
    "    print(f\"An error occurred: {e}\")"
   ]
  },
  {
   "cell_type": "markdown",
   "id": "9e5c16af-fd6c-4e9c-8bb6-1e070b054635",
   "metadata": {},
   "source": [
    "# 3. Dose response and confidence interval"
   ]
  },
  {
   "cell_type": "code",
   "execution_count": 4,
   "id": "73826b81-66d5-4421-8f4a-ef2c98d410e9",
   "metadata": {
    "tags": []
   },
   "outputs": [
    {
     "name": "stdout",
     "output_type": "stream",
     "text": [
      "For a 50% dose response (y = 0.55053), the corresponding X value is 6.61882.\n",
      "The 95% confidence interval for X is [4.35232, 8.88532].\n"
     ]
    }
   ],
   "source": [
    "def dose_response(A_fit, B_fit, C_fit, D_fit, desired_response, confidence_interval):\n",
    "    # Calculate desired fraction\n",
    "    desired_fraction = 1 - desired_response / 100\n",
    "    \n",
    "    # Define symbols\n",
    "    C_fit_sym, A_fit_sym, B_fit_sym, D_fit_sym, desired_fraction_sym = sp.symbols('C_fit A_fit B_fit D_fit desired_fraction')\n",
    "\n",
    "    # Define the function x\n",
    "    x_equation = C_fit_sym * (((B_fit_sym - A_fit_sym - desired_fraction_sym * (B_fit_sym - A_fit_sym)) / (desired_fraction_sym * (B_fit_sym - A_fit_sym))) ** (1 / D_fit_sym))\n",
    "\n",
    "    # calculate the values of x and y\n",
    "    x = C_fit * (((B_fit - A_fit - desired_fraction * (B_fit - A_fit)) / (desired_fraction * (B_fit - A_fit))) ** (1 / D_fit))\n",
    "    y = A_fit + (B_fit - A_fit) / (1 + (x / C_fit) ** D_fit) \n",
    "    \n",
    "    # Calculate partial derivatives\n",
    "    partial_A = sp.diff(x_equation, A_fit_sym)\n",
    "    partial_B = sp.diff(x_equation, B_fit_sym)\n",
    "    partial_C = sp.diff(x_equation, C_fit_sym)\n",
    "    partial_D = sp.diff(x_equation, D_fit_sym)\n",
    "\n",
    "    # Substitute values into partial derivatives\n",
    "    eq_to_val = {\n",
    "        A_fit_sym: A_fit,\n",
    "        B_fit_sym: B_fit,\n",
    "        C_fit_sym: C_fit,\n",
    "        D_fit_sym: D_fit,\n",
    "        desired_fraction_sym: desired_fraction\n",
    "    }\n",
    "\n",
    "    partial_A_value = partial_A.subs(eq_to_val)\n",
    "    partial_B_value = partial_B.subs(eq_to_val)\n",
    "    partial_C_value = partial_C.subs(eq_to_val)\n",
    "    partial_D_value = partial_D.subs(eq_to_val)\n",
    "\n",
    "    # Compute partial derivatives array\n",
    "    partial_derivatives = np.array([\n",
    "        float(partial_A_value),\n",
    "        float(partial_B_value),\n",
    "        float(partial_C_value),\n",
    "        float(partial_D_value)\n",
    "    ]).reshape(-1, 1)\n",
    "    \n",
    "    # calculate the standard deviation\n",
    "    intermediate_result = pcov @ partial_derivatives\n",
    "    variance_x = (partial_derivatives.T @ intermediate_result).item()\n",
    "    std_dev_x = np.sqrt(variance_x)\n",
    "    \n",
    "    \n",
    "    # Compute confidence intervals\n",
    "    confidence_level = confidence_interval / 100.0\n",
    "    z_score = norm.ppf((1 + confidence_level) / 2)\n",
    "    lower_x = x - z_score * std_dev_x\n",
    "    upper_x = x + z_score * std_dev_x\n",
    "\n",
    "    return x,y, lower_x, upper_x\n",
    "\n",
    "response = 50\n",
    "interval = 95\n",
    "x, y, lower_x, upper_x = dose_response(A_fit, B_fit, C_fit, D_fit,response, interval)\n",
    "\n",
    "\n",
    "# Print the results in an intuitive format\n",
    "print(f\"For a {response}% dose response (y = {y:.5f}), the corresponding X value is {x:.5f}.\")\n",
    "print(f\"The {interval}% confidence interval for X is [{lower_x:.5f}, {upper_x:.5f}].\")"
   ]
  },
  {
   "cell_type": "code",
   "execution_count": null,
   "id": "64d5ea81-999a-4101-87ac-77b9355a5537",
   "metadata": {},
   "outputs": [],
   "source": []
  }
 ],
 "metadata": {
  "kernelspec": {
   "display_name": "Python 3 (ipykernel)",
   "language": "python",
   "name": "python3"
  },
  "language_info": {
   "codemirror_mode": {
    "name": "ipython",
    "version": 3
   },
   "file_extension": ".py",
   "mimetype": "text/x-python",
   "name": "python",
   "nbconvert_exporter": "python",
   "pygments_lexer": "ipython3",
   "version": "3.11.5"
  }
 },
 "nbformat": 4,
 "nbformat_minor": 5
}
